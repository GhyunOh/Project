{
 "cells": [
  {
   "cell_type": "code",
   "execution_count": 3,
   "id": "f95b5d66",
   "metadata": {},
   "outputs": [],
   "source": [
    "import pandas as pd\n",
    "import csv\n",
    "train = pd.read_csv(\"train.csv\", sep=\",\")\n",
    "test = pd.read_csv(\"test.csv\", sep=\",\")\n",
    "val = pd.read_csv(\"valid.csv\", sep=\",\")"
   ]
  },
  {
   "cell_type": "code",
   "execution_count": 4,
   "id": "03a6a512",
   "metadata": {},
   "outputs": [],
   "source": [
    "val['Sequence'].to_csv(\"valid\", header=False, index=False)\n",
    "test['Sequence'].to_csv(\"test\", header=False, index=False)\n",
    "train['Sequence'].to_csv(\"train\", header=False, index=False)"
   ]
  }
 ],
 "metadata": {
  "kernelspec": {
   "display_name": "Python 3 (ipykernel)",
   "language": "python",
   "name": "python3"
  },
  "language_info": {
   "codemirror_mode": {
    "name": "ipython",
    "version": 3
   },
   "file_extension": ".py",
   "mimetype": "text/x-python",
   "name": "python",
   "nbconvert_exporter": "python",
   "pygments_lexer": "ipython3",
   "version": "3.10.12"
  }
 },
 "nbformat": 4,
 "nbformat_minor": 5
}
