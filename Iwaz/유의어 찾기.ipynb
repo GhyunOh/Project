{
 "cells": [
  {
   "cell_type": "code",
   "execution_count": 42,
   "id": "52879f3b",
   "metadata": {},
   "outputs": [],
   "source": [
    "import pandas as pd\n",
    "import numpy as np\n",
    "import re\n",
    "from IPython.display import display, Markdown, Latex, HTML"
   ]
  },
  {
   "cell_type": "code",
   "execution_count": 55,
   "id": "81bb66f9",
   "metadata": {
    "scrolled": true
   },
   "outputs": [],
   "source": [
    "dic = list()\n",
    "\n",
    "for i in range(1,11):\n",
    "    data = pd.read_excel('./dict.xlsx',sheet_name = i)\n",
    "    dic.append(list(data[\"유의어\"])) \n",
    "dic = sum(dic, [])\n",
    "dic.remove(\"중\") \n",
    "dic.remove(\"줌\")\n",
    "dic.remove(\"배우\")\n",
    "dic.remove(\"형\")\n"
   ]
  },
  {
   "cell_type": "code",
   "execution_count": 1,
   "id": "f7f37488",
   "metadata": {},
   "outputs": [
    {
     "ename": "NameError",
     "evalue": "name 'pd' is not defined",
     "output_type": "error",
     "traceback": [
      "\u001b[1;31m---------------------------------------------------------------------------\u001b[0m",
      "\u001b[1;31mNameError\u001b[0m                                 Traceback (most recent call last)",
      "\u001b[1;32m<ipython-input-1-4ec4f57baf8a>\u001b[0m in \u001b[0;36m<module>\u001b[1;34m\u001b[0m\n\u001b[1;32m----> 1\u001b[1;33m \u001b[0mdata\u001b[0m \u001b[1;33m=\u001b[0m \u001b[0mpd\u001b[0m\u001b[1;33m.\u001b[0m\u001b[0mread_excel\u001b[0m\u001b[1;33m(\u001b[0m\u001b[1;34m'./data.xlsx'\u001b[0m\u001b[1;33m,\u001b[0m\u001b[0msheet_name\u001b[0m \u001b[1;33m=\u001b[0m \u001b[1;36m1\u001b[0m\u001b[1;33m)\u001b[0m\u001b[1;33m\u001b[0m\u001b[1;33m\u001b[0m\u001b[0m\n\u001b[0m\u001b[0;32m      2\u001b[0m \u001b[0mcheck\u001b[0m \u001b[1;33m=\u001b[0m \u001b[0mlist\u001b[0m\u001b[1;33m(\u001b[0m\u001b[0mdata\u001b[0m\u001b[1;33m.\u001b[0m\u001b[0miloc\u001b[0m\u001b[1;33m[\u001b[0m\u001b[1;33m:\u001b[0m\u001b[1;33m,\u001b[0m\u001b[1;36m1\u001b[0m\u001b[1;33m]\u001b[0m\u001b[1;33m)\u001b[0m\u001b[1;33m\u001b[0m\u001b[1;33m\u001b[0m\u001b[0m\n\u001b[0;32m      3\u001b[0m \u001b[0mswap\u001b[0m \u001b[1;33m=\u001b[0m \u001b[1;33m{\u001b[0m\u001b[1;36m1\u001b[0m\u001b[1;33m:\u001b[0m\u001b[1;34m\"A\"\u001b[0m\u001b[1;33m,\u001b[0m\u001b[1;36m2\u001b[0m\u001b[1;33m:\u001b[0m\u001b[1;34m\"B\"\u001b[0m\u001b[1;33m,\u001b[0m\u001b[1;36m3\u001b[0m\u001b[1;33m:\u001b[0m\u001b[1;34m\"C\"\u001b[0m\u001b[1;33m,\u001b[0m\u001b[1;36m4\u001b[0m\u001b[1;33m:\u001b[0m\u001b[1;34m\"D\"\u001b[0m\u001b[1;33m,\u001b[0m\u001b[1;36m5\u001b[0m\u001b[1;33m:\u001b[0m\u001b[1;34m\"E\"\u001b[0m\u001b[1;33m,\u001b[0m\u001b[1;36m6\u001b[0m\u001b[1;33m:\u001b[0m\u001b[1;34m'F'\u001b[0m\u001b[1;33m,\u001b[0m\u001b[1;36m7\u001b[0m\u001b[1;33m:\u001b[0m\u001b[1;34m'G'\u001b[0m\u001b[1;33m,\u001b[0m\u001b[1;36m8\u001b[0m\u001b[1;33m:\u001b[0m\u001b[1;34m'H'\u001b[0m\u001b[1;33m,\u001b[0m\u001b[1;36m9\u001b[0m\u001b[1;33m:\u001b[0m\u001b[1;34m'I'\u001b[0m\u001b[1;33m,\u001b[0m\u001b[1;36m10\u001b[0m\u001b[1;33m:\u001b[0m\u001b[1;34m'J'\u001b[0m\u001b[1;33m}\u001b[0m\u001b[1;33m\u001b[0m\u001b[1;33m\u001b[0m\u001b[0m\n",
      "\u001b[1;31mNameError\u001b[0m: name 'pd' is not defined"
     ]
    }
   ],
   "source": [
    "data = pd.read_excel('./data.xlsx',sheet_name = 1)\n",
    "check = list(data.iloc[:,1])\n",
    "swap = {1:\"A\",2:\"B\",3:\"C\",4:\"D\",5:\"E\",6:'F',7:'G',8:'H',9:'I',10:'J'}"
   ]
  },
  {
   "cell_type": "code",
   "execution_count": 7,
   "id": "4ffc74d5",
   "metadata": {
    "scrolled": true
   },
   "outputs": [
    {
     "name": "stdout",
     "output_type": "stream",
     "text": [
      "3 \t| 인도     \t| E 시트\n",
      "3 \t| 대사     \t| F 시트\n",
      "4 \t| PT     \t| F 시트\n",
      "9 \t| 대사     \t| F 시트\n",
      "20 \t| 화가     \t| F 시트\n",
      "21 \t| 경찰관    \t| F 시트\n",
      "30 \t| 대상     \t| B 시트\n",
      "30 \t| 신부     \t| F 시트\n",
      "31 \t| 말리     \t| E 시트\n",
      "31 \t| 신부     \t| F 시트\n",
      "32 \t| 화가     \t| F 시트\n",
      "33 \t| 대상     \t| B 시트\n",
      "36 \t| 교환     \t| E 시트\n",
      "37 \t| 부모     \t| F 시트\n",
      "37 \t| 부모님    \t| F 시트\n",
      "43 \t| 등록     \t| D 시트\n",
      "47 \t| 신부     \t| F 시트\n",
      "55 \t| 경찰관    \t| F 시트\n",
      "58 \t| 대상     \t| B 시트\n",
      "59 \t| 사회복지사  \t| F 시트\n",
      "60 \t| 이란     \t| E 시트\n",
      "62 \t| 이란     \t| E 시트\n",
      "68 \t| 화가     \t| F 시트\n",
      "74 \t| 영국     \t| E 시트\n",
      "77 \t| 소방관    \t| F 시트\n",
      "79 \t| 대상     \t| B 시트\n",
      "84 \t| 논문     \t| D 시트\n",
      "94 \t| 부모     \t| F 시트\n",
      "94 \t| 부모님    \t| F 시트\n",
      "98 \t| 검증     \t| C 시트\n",
      "99 \t| 화가     \t| F 시트\n"
     ]
    }
   ],
   "source": [
    "dic_sheet = list() \n",
    "\n",
    "for i in range(100): \n",
    "    for j in range(len(dic)): \n",
    "        if dic[j] in check[i]: \n",
    "            for k in range(1,11): \n",
    "                data = pd.read_excel('./dict.xlsx',sheet_name = k) \n",
    "                dic_sheet = list(data[\"유의어\"]) \n",
    "                if dic[j] in dic_sheet:\n",
    "                    print(i+1,'\\t|', \"%-6s\" % dic[j] ,\"\\t|\", swap.get(k),\"시트\")"
   ]
  },
  {
   "cell_type": "code",
   "execution_count": null,
   "id": "d4865bc4",
   "metadata": {},
   "outputs": [],
   "source": []
  },
  {
   "cell_type": "code",
   "execution_count": 53,
   "id": "cfe13a67",
   "metadata": {},
   "outputs": [],
   "source": [
    "mlist = [\"안녕하세요\",\"싫어\"]\n",
    "df = pd.DataFrame(mlist)\n",
    "def change_word_to_red(val):\n",
    "    color = 'red' if \"안녕\" in val else 'black'\n",
    "    return 'color: %s' % color\n",
    "\n",
    "data = df.style.applymap(change_word_to_red)\n",
    "data"
   ]
  }
 ],
 "metadata": {
  "kernelspec": {
   "display_name": "Python 3",
   "language": "python",
   "name": "python3"
  },
  "language_info": {
   "codemirror_mode": {
    "name": "ipython",
    "version": 3
   },
   "file_extension": ".py",
   "mimetype": "text/x-python",
   "name": "python",
   "nbconvert_exporter": "python",
   "pygments_lexer": "ipython3",
   "version": "3.8.10"
  }
 },
 "nbformat": 4,
 "nbformat_minor": 5
}
