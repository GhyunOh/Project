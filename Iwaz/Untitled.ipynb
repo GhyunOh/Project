{
 "cells": [
  {
   "cell_type": "code",
   "execution_count": 2,
   "id": "e2ec401b",
   "metadata": {},
   "outputs": [],
   "source": [
    "from bs4 import BeautifulSoup\n",
    "import requests "
   ]
  },
  {
   "cell_type": "code",
   "execution_count": 24,
   "id": "39f7b6ef",
   "metadata": {},
   "outputs": [
    {
     "data": {
      "text/plain": [
       "<ul class=\"condition clear\">\n",
       "<li class=\"col-xs-4 col-sm-4\">\n",
       "<dl>\n",
       "<dt>연 수익률</dt>\n",
       "<dd><span class=\"data-interest-rate data-interest-rate-text\"></span>%</dd>\n",
       "</dl>\n",
       "</li>\n",
       "<li class=\"col-xs-4 col-sm-4\">\n",
       "<dl>\n",
       "<dt>기간</dt>\n",
       "<dd><span class=\"data-loan-application-term\"></span>개월</dd>\n",
       "</dl>\n",
       "</li>\n",
       "<li class=\"col-xs-4 col-sm-4\">\n",
       "<dl class=\"loan-amount\">\n",
       "<dt>모집액</dt>\n",
       "<dd><span class=\"data-loan-application-amount-text\"></span><span class=\"data-loan-application-amount-unit except-won\"></span></dd>\n",
       "</dl>\n",
       "<dl class=\"min-invest-amount hidden\">\n",
       "<dt>최소투자금액</dt>\n",
       "<dd><span class=\"data-min-invest-amount\"></span>만원</dd>\n",
       "</dl>\n",
       "</li>\n",
       "</ul>"
      ]
     },
     "execution_count": 24,
     "metadata": {},
     "output_type": "execute_result"
    }
   ],
   "source": [
    "headers = {\"user-agent\":\"Mozilla/5.0 (Windows NT 10.0; Win64; x64) AppleWebKit/537.36 (KHTML, like Gecko) Chrome/94.0.4606.81 Safari/537.36\"}\n",
    "source = requests.get(\"https://www.peoplefund.co.kr/showcase/ml5953\",)\n",
    "soup = BeautifulSoup(source.content,\"html.parser\")\n",
    "table = soup.find('ul',{\"class\":\"condition clear\"})\n",
    "table"
   ]
  },
  {
   "cell_type": "code",
   "execution_count": 20,
   "id": "d6ac5ee3",
   "metadata": {},
   "outputs": [],
   "source": [
    "table = table.find(\"span\",{\"class\":\"data-interest-rate data-interest-rate-text\"})"
   ]
  },
  {
   "cell_type": "code",
   "execution_count": 21,
   "id": "0eaebb91",
   "metadata": {},
   "outputs": [
    {
     "data": {
      "text/plain": [
       "''"
      ]
     },
     "execution_count": 21,
     "metadata": {},
     "output_type": "execute_result"
    }
   ],
   "source": [
    "table.text"
   ]
  },
  {
   "cell_type": "code",
   "execution_count": 23,
   "id": "46698cac",
   "metadata": {},
   "outputs": [
    {
     "ename": "ModuleNotFoundError",
     "evalue": "No module named 'selenium'",
     "output_type": "error",
     "traceback": [
      "\u001b[1;31m---------------------------------------------------------------------------\u001b[0m",
      "\u001b[1;31mModuleNotFoundError\u001b[0m                       Traceback (most recent call last)",
      "\u001b[1;32m<ipython-input-23-93833772b63f>\u001b[0m in \u001b[0;36m<module>\u001b[1;34m\u001b[0m\n\u001b[1;32m----> 1\u001b[1;33m \u001b[1;32mfrom\u001b[0m \u001b[0mselenium\u001b[0m \u001b[1;32mimport\u001b[0m \u001b[0mwebdriver\u001b[0m\u001b[1;33m\u001b[0m\u001b[1;33m\u001b[0m\u001b[0m\n\u001b[0m",
      "\u001b[1;31mModuleNotFoundError\u001b[0m: No module named 'selenium'"
     ]
    }
   ],
   "source": [
    "from selenium import webdriver"
   ]
  },
  {
   "cell_type": "code",
   "execution_count": null,
   "id": "157bc30f",
   "metadata": {},
   "outputs": [],
   "source": []
  }
 ],
 "metadata": {
  "kernelspec": {
   "display_name": "Python 3",
   "language": "python",
   "name": "python3"
  },
  "language_info": {
   "codemirror_mode": {
    "name": "ipython",
    "version": 3
   },
   "file_extension": ".py",
   "mimetype": "text/x-python",
   "name": "python",
   "nbconvert_exporter": "python",
   "pygments_lexer": "ipython3",
   "version": "3.8.10"
  }
 },
 "nbformat": 4,
 "nbformat_minor": 5
}
