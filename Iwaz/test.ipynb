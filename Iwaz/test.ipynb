{
 "cells": [
  {
   "cell_type": "code",
   "execution_count": 6,
   "id": "52879f3b",
   "metadata": {},
   "outputs": [],
   "source": [
    "import pandas as pd\n",
    "import numpy as np\n",
    "import re\n",
    "import openpyxl"
   ]
  },
  {
   "cell_type": "code",
   "execution_count": 7,
   "id": "4233250e",
   "metadata": {},
   "outputs": [],
   "source": [
    "wb = openpyxl.load_workbook('./09.xlsx', read_only=True)\n",
    "ws_names = wb.sheetnames"
   ]
  },
  {
   "cell_type": "code",
   "execution_count": 9,
   "id": "73bf1458",
   "metadata": {},
   "outputs": [],
   "source": [
    "dic = list()\n",
    "dic_check = {}\n",
    "swap = {1:\"A\",2:\"B\",3:\"C\",4:\"D\",5:\"E\",6:'F',7:'G',8:'H',9:'I',10:'J'}\n",
    "for i in range(1,11):\n",
    "    if i == 6 or i == 5:\n",
    "        continue\n",
    "    data = pd.read_excel('./dict.xlsx',sheet_name = i)\n",
    "    dic = (list(data[\"유의어\"])) \n",
    "    for j in range(len(dic)):\n",
    "        dic_check[str(dic[j])] = swap.get(i)"
   ]
  },
  {
   "cell_type": "code",
   "execution_count": 10,
   "id": "81bb66f9",
   "metadata": {
    "scrolled": true
   },
   "outputs": [],
   "source": [
    "dic = list()\n",
    "for i in range(1,11):\n",
    "    if i == 6 or i == 5:\n",
    "        continue\n",
    "    data = pd.read_excel('./dict.xlsx',sheet_name = i)\n",
    "    dic.append(list(data[\"유의어\"])) \n",
    "dic = sum(dic, [])\n",
    "dic.remove(\"줌\")\n",
    "dic.remove(\"대회\")\n",
    "dic.remove(\"출전\")"
   ]
  },
  {
   "cell_type": "code",
   "execution_count": 52,
   "id": "f7f37488",
   "metadata": {},
   "outputs": [],
   "source": [
    "sheet_num = 6\n",
    "data = pd.read_excel('./09.xlsx',sheet_name = sheet_num)\n",
    "check = list(data.iloc[:,1])\n",
    "original_sentence = []\n",
    "words = []\n",
    "word = []\n",
    "sheet_name = []\n",
    "sheet_type = []\n",
    "val = []\n",
    "original_num = []"
   ]
  },
  {
   "cell_type": "code",
   "execution_count": null,
   "id": "4ffc74d5",
   "metadata": {},
   "outputs": [],
   "source": [
    "for i in range(len(check)): \n",
    "    for j in range(len(dic)): \n",
    "        if dic[j] in check[i]: \n",
    "            check[i] = re.sub(dic[j],\"[[[ %s ]]]\" % dic[j],check[i])\n",
    "            word.append(dic[j])\n",
    "            val.append(dic_check.get(dic[j]))\n",
    "    for j in range(len(dic)):\n",
    "        if dic[j] in check[i]:\n",
    "            original_sentence.append(check[i])\n",
    "            sheet_name.append(ws_names[sheet_num])\n",
    "            a = \"03_\" + ws_names[sheet_num] + \"_\" + str(i+1)\n",
    "            original_num.append(a)\n",
    "            break\n",
    "    word = re.sub('[\\[\\]\\'\\\"]',\"\",str(word))\n",
    "    val = re.sub('[\\[\\]\\'\\\"]',\"\",str(val))\n",
    "    if word != [] and word != '':\n",
    "        words.append(str(word))\n",
    "        sheet_type.append(str(val))\n",
    "    word = []\n",
    "    val = []"
   ]
  },
  {
   "cell_type": "code",
   "execution_count": null,
   "id": "4c6ef8d4",
   "metadata": {},
   "outputs": [],
   "source": [
    "df = pd.DataFrame({\"순번\":np.nan,\"원문 출처\":original_num,\"원문 문장\":original_sentence,\n",
    "                   \"유의어 문장\":np.nan,\"유의어\":words,\"항목\":sheet_name,\"사유구분\":sheet_type})"
   ]
  },
  {
   "cell_type": "code",
   "execution_count": null,
   "id": "534dd78b",
   "metadata": {
    "scrolled": true
   },
   "outputs": [],
   "source": [
    "df"
   ]
  },
  {
   "cell_type": "code",
   "execution_count": null,
   "id": "7277224e",
   "metadata": {},
   "outputs": [],
   "source": [
    "df.to_excel(excel_writer='09_06.xlsx',index=False)"
   ]
  },
  {
   "cell_type": "code",
   "execution_count": null,
   "id": "690a7ac6",
   "metadata": {},
   "outputs": [],
   "source": []
  }
 ],
 "metadata": {
  "kernelspec": {
   "display_name": "Python 3",
   "language": "python",
   "name": "python3"
  },
  "language_info": {
   "codemirror_mode": {
    "name": "ipython",
    "version": 3
   },
   "file_extension": ".py",
   "mimetype": "text/x-python",
   "name": "python",
   "nbconvert_exporter": "python",
   "pygments_lexer": "ipython3",
   "version": "3.8.10"
  }
 },
 "nbformat": 4,
 "nbformat_minor": 5
}
