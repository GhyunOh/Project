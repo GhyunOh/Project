{
 "cells": [
  {
   "cell_type": "code",
   "execution_count": 7,
   "id": "e2ec401b",
   "metadata": {},
   "outputs": [],
   "source": [
    "from bs4 import BeautifulSoup\n",
    "import requests "
   ]
  },
  {
   "cell_type": "code",
   "execution_count": 17,
   "id": "39f7b6ef",
   "metadata": {},
   "outputs": [],
   "source": [
    "source = requests.get(\"https://www.peoplefund.co.kr/showcase/list/\")\n",
    "soup = BeautifulSoup(source.content,\"html.parser\")\n",
    "table = soup.find('div',{\"class\":\"col col-xs-6 col-sm-4 col-md-3 col-lg-3\"})\n",
    "table"
   ]
  },
  {
   "cell_type": "code",
   "execution_count": 18,
   "id": "d6ac5ee3",
   "metadata": {},
   "outputs": [],
   "source": [
    "table"
   ]
  }
 ],
 "metadata": {
  "kernelspec": {
   "display_name": "Python 3",
   "language": "python",
   "name": "python3"
  },
  "language_info": {
   "codemirror_mode": {
    "name": "ipython",
    "version": 3
   },
   "file_extension": ".py",
   "mimetype": "text/x-python",
   "name": "python",
   "nbconvert_exporter": "python",
   "pygments_lexer": "ipython3",
   "version": "3.8.10"
  }
 },
 "nbformat": 4,
 "nbformat_minor": 5
}
