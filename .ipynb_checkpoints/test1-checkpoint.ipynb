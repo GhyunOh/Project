{
 "cells": [
  {
   "cell_type": "code",
   "execution_count": 2,
   "id": "52879f3b",
   "metadata": {},
   "outputs": [],
   "source": [
    "import pandas as pd\n",
    "import re"
   ]
  },
  {
   "cell_type": "code",
   "execution_count": 3,
   "id": "81bb66f9",
   "metadata": {
    "scrolled": true
   },
   "outputs": [],
   "source": [
    "dic = list()\n",
    "for i in range(1,11):\n",
    "#    if i == 6:\n",
    "#        continue\n",
    "    data = pd.read_excel('./dict.xlsx',sheet_name = i)\n",
    "    dic.append(list(data[\"유의어\"]))\n",
    "dic = sum(dic, [])"
   ]
  },
  {
   "cell_type": "code",
   "execution_count": 4,
   "id": "f7f37488",
   "metadata": {},
   "outputs": [],
   "source": [
    "data = pd.read_excel('./data.xlsx',sheet_name = 0)"
   ]
  },
  {
   "cell_type": "code",
   "execution_count": 5,
   "id": "620f5e8c",
   "metadata": {},
   "outputs": [],
   "source": [
    "check = list(data.iloc[:,1])"
   ]
  },
  {
   "cell_type": "code",
   "execution_count": 59,
   "id": "4ffc74d5",
   "metadata": {},
   "outputs": [
    {
     "name": "stdout",
     "output_type": "stream",
     "text": [
      "3 인도\n",
      "5 줌\n",
      "13 줌\n",
      "16 줌\n",
      "30 대상\n",
      "31 말리\n",
      "33 대상\n",
      "36 교환\n",
      "43 등록\n",
      "58 대상\n",
      "60 이란\n",
      "62 이란\n",
      "74 영국\n",
      "79 대상\n",
      "82 줌\n",
      "84 논문\n",
      "98 검증\n"
     ]
    }
   ],
   "source": [
    "for i in range(100):\n",
    "    for j in range(len(dic)):\n",
    "        if dic[j] in check[i]:\n",
    "            print(i+1,dic[j])"
   ]
  },
  {
   "cell_type": "code",
   "execution_count": 9,
   "id": "561cb25c",
   "metadata": {
    "scrolled": true
   },
   "outputs": [
    {
     "name": "stdout",
     "output_type": "stream",
     "text": [
      "724\n"
     ]
    }
   ],
   "source": [
    "for i in range(len(dic)):\n",
    "    if \"교환\" == dic[i]:\n",
    "        print(i+1)\n",
    "        break;"
   ]
  },
  {
   "cell_type": "code",
   "execution_count": 42,
   "id": "1f13453f",
   "metadata": {},
   "outputs": [],
   "source": [
    "c = re.compile(dic[1461])"
   ]
  },
  {
   "cell_type": "code",
   "execution_count": 43,
   "id": "1346070a",
   "metadata": {},
   "outputs": [],
   "source": [
    "m = c.match(check[1])"
   ]
  },
  {
   "cell_type": "code",
   "execution_count": 44,
   "id": "1c308d87",
   "metadata": {},
   "outputs": [
    {
     "name": "stdout",
     "output_type": "stream",
     "text": [
      "1\n"
     ]
    }
   ],
   "source": [
    "if m == None:\n",
    "    print(1)"
   ]
  },
  {
   "cell_type": "code",
   "execution_count": null,
   "id": "6c556bca",
   "metadata": {},
   "outputs": [],
   "source": []
  }
 ],
 "metadata": {
  "kernelspec": {
   "display_name": "Python 3",
   "language": "python",
   "name": "python3"
  },
  "language_info": {
   "codemirror_mode": {
    "name": "ipython",
    "version": 3
   },
   "file_extension": ".py",
   "mimetype": "text/x-python",
   "name": "python",
   "nbconvert_exporter": "python",
   "pygments_lexer": "ipython3",
   "version": "3.8.10"
  }
 },
 "nbformat": 4,
 "nbformat_minor": 5
}
