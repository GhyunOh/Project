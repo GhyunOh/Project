{
 "cells": [
  {
   "cell_type": "code",
   "execution_count": 5,
   "id": "52879f3b",
   "metadata": {},
   "outputs": [],
   "source": [
    "import pandas as pd\n",
    "import re"
   ]
  },
  {
   "cell_type": "code",
   "execution_count": 2,
   "id": "81bb66f9",
   "metadata": {
    "scrolled": true
   },
   "outputs": [],
   "source": [
    "dic = list() \n",
    "for i in range(1,11):\n",
    "    data = pd.read_excel('./dict.xlsx',sheet_name = i)\n",
    "    dic.append(list(data[\"유의어\"])) \n",
    "dic = sum(dic, [])\n",
    "dic.remove(\"중\") \n",
    "dic.remove(\"줌\")\n",
    "dic.remove(\"배우\")\n",
    "dic.remove(\"형\")\n"
   ]
  },
  {
   "cell_type": "code",
   "execution_count": 3,
   "id": "f7f37488",
   "metadata": {},
   "outputs": [],
   "source": [
    "data = pd.read_excel('./data.xlsx',sheet_name = 0)\n",
    "check = list(data.iloc[:,1])\n",
    "swap = {1:\"A\",2:\"B\",3:\"C\",4:\"D\",5:\"E\",6:'F',7:'G',8:'H',9:'I',10:'J'}"
   ]
  },
  {
   "cell_type": "code",
   "execution_count": 7,
   "id": "4ffc74d5",
   "metadata": {
    "scrolled": true
   },
   "outputs": [
    {
     "name": "stdout",
     "output_type": "stream",
     "text": [
      "3 \t| 인도     \t| E 시트\n",
      "3 \t| 대사     \t| F 시트\n",
      "4 \t| PT     \t| F 시트\n",
      "9 \t| 대사     \t| F 시트\n",
      "20 \t| 화가     \t| F 시트\n",
      "21 \t| 경찰관    \t| F 시트\n",
      "30 \t| 대상     \t| B 시트\n",
      "30 \t| 신부     \t| F 시트\n",
      "31 \t| 말리     \t| E 시트\n",
      "31 \t| 신부     \t| F 시트\n",
      "32 \t| 화가     \t| F 시트\n",
      "33 \t| 대상     \t| B 시트\n",
      "36 \t| 교환     \t| E 시트\n",
      "37 \t| 부모     \t| F 시트\n",
      "37 \t| 부모님    \t| F 시트\n",
      "43 \t| 등록     \t| D 시트\n",
      "47 \t| 신부     \t| F 시트\n",
      "55 \t| 경찰관    \t| F 시트\n",
      "58 \t| 대상     \t| B 시트\n",
      "59 \t| 사회복지사  \t| F 시트\n",
      "60 \t| 이란     \t| E 시트\n",
      "62 \t| 이란     \t| E 시트\n",
      "68 \t| 화가     \t| F 시트\n",
      "74 \t| 영국     \t| E 시트\n",
      "77 \t| 소방관    \t| F 시트\n",
      "79 \t| 대상     \t| B 시트\n",
      "84 \t| 논문     \t| D 시트\n",
      "94 \t| 부모     \t| F 시트\n",
      "94 \t| 부모님    \t| F 시트\n",
      "98 \t| 검증     \t| C 시트\n",
      "99 \t| 화가     \t| F 시트\n"
     ]
    }
   ],
   "source": [
    "dic_sheet = list() \n",
    "for i in range(100): \n",
    "    for j in range(len(dic)): \n",
    "        if dic[j] in check[i]: \n",
    "            for k in range(1,11): \n",
    "                data = pd.read_excel('./dict.xlsx',sheet_name = k) \n",
    "                dic_sheet = list(data[\"유의어\"]) \n",
    "                if dic[j] in dic_sheet: \n",
    "                    print(i+1,'\\t|', \"%-6s\" % dic[j] ,\"\\t|\", swap.get(k),\"시트\")"
   ]
  },
  {
   "cell_type": "code",
   "execution_count": 12,
   "id": "846e84eb",
   "metadata": {},
   "outputs": [],
   "source": [
    "mlist = [\"안녕하세요\",\"안녕\"]\n",
    "change = '\\033[91m'+ mlist[0]"
   ]
  },
  {
   "cell_type": "code",
   "execution_count": 13,
   "id": "0a6a60fc",
   "metadata": {},
   "outputs": [
    {
     "data": {
      "text/plain": [
       "'\\x1b[91m안녕하세요'"
      ]
     },
     "execution_count": 13,
     "metadata": {},
     "output_type": "execute_result"
    }
   ],
   "source": [
    "change"
   ]
  },
  {
   "cell_type": "code",
   "execution_count": null,
   "id": "eeebb94a",
   "metadata": {},
   "outputs": [],
   "source": [
    "def highlight_selected_text(row):\n",
    "    text = row[\"body_text\"]\n",
    "    selected_text = [\"economy\", \"recession\", \"unemployment\", \"depression\",\"inflation\", \"covid19\",\"virus\",\"bank\"]\n",
    "    ext = row[\"existing\"]\n",
    "\n",
    "    color = {\n",
    "        \"economy\": \"red\",\n",
    "        \"recession\": \"red\",\n",
    "        \"unemployment\": \"red\",\n",
    "        \"depression\": \"red\",\n",
    "        \"inflation\": \"red\",\n",
    "        \"covid19\": \"red\",\n",
    "        \"virus\" : \"red\",\n",
    "        \"bank\": \"red\",\n",
    "        \"not_exist\": \"black\"\n",
    "        \n",
    "    }[ext]\n",
    "\n",
    "    highlighted = f'<span style=\"color: {color}; font-weight: bold\">{ext}</span>'\n",
    "    \n",
    "    \n",
    "    \n",
    "    return text.replace(selected_text[0] or selected_text[1] or selected_text[2] or selected_text[3] or selected_text[4]or selected_text[5]or selected_text[6]or selected_text[7], highlighted)\n",
    "df[\"highlighted\"] = df.apply(highlight_selected_text, axis=1)\n"
   ]
  }
 ],
 "metadata": {
  "kernelspec": {
   "display_name": "Python 3",
   "language": "python",
   "name": "python3"
  },
  "language_info": {
   "codemirror_mode": {
    "name": "ipython",
    "version": 3
   },
   "file_extension": ".py",
   "mimetype": "text/x-python",
   "name": "python",
   "nbconvert_exporter": "python",
   "pygments_lexer": "ipython3",
   "version": "3.8.10"
  }
 },
 "nbformat": 4,
 "nbformat_minor": 5
}
