{
 "cells": [
  {
   "cell_type": "code",
   "execution_count": 1,
   "id": "d8056cda",
   "metadata": {},
   "outputs": [],
   "source": [
    "import pandas as pd\n",
    "import numpy as np\n",
    "import matplotlib.pyplot as plt\n",
    "import glob\n",
    "import seaborn as sns\n",
    "from sklearn.preprocessing import MinMaxScaler\n",
    "import xgboost as xg\n",
    "from sklearn.metrics import explained_variance_score\n",
    "from sklearn.model_selection import GridSearchCV\n",
    "from sklearn.svm import LinearSVR"
   ]
  },
  {
   "cell_type": "code",
   "execution_count": 2,
   "id": "bb301954",
   "metadata": {},
   "outputs": [],
   "source": [
    "path = \"C:/Workspace/Project/baron/05_Loop current Events\"\n",
    "file = [\"2015-08-07\",\"2015-08-08\",\"2015-09-03\",\"2015-09-09\"]\n",
    "dfs = []\n",
    "for i in range(4):\n",
    "    filenames = glob.glob(path + \"/\" + file[i] + \"/*.txt\")\n",
    "    cols = []\n",
    "    for filename in filenames:\n",
    "        cols.append(pd.read_csv(filename, index_col=None, header=None))\n",
    "    df = pd.DataFrame(pd.concat(cols, axis=1, ignore_index=None))\n",
    "    df.columns = ['AIRGAP1' , 'AIRGAP2' , 'AIRGAP3' , 'AIRGAP4' , 'CURRENT_DEPTH1' ,\n",
    "              'CURRENT_DEPTH2' , 'CURRENT_DEPTH3' , 'CURRENT_DEPTH4' , 'CURRENT_DEPTH5' ,\n",
    "              'CURRENT_DEPTH6' , 'CURRENT_DEPTH7' , 'CURRENT_DIRECTION1' , 'CURRENT_DIRECTION2' , \n",
    "              'CURRENT_DIRECTION3' , 'CURRENT_DIRECTION4' , 'CURRENT_DIRECTION5' , 'CURRENT_DIRECTION6' , \n",
    "              'CURRENT_DIRECTION7' , 'CURRENT_SPEED1' , 'CURRENT_SPEED2' , 'CURRENT_SPEED3' , 'CURRENT_SPEED4' ,\n",
    "              'CURRENT_SPEED5' , 'CURRENT_SPEED6' , 'CURRENT_SPEED7' , 'MOORING1_LENGTH',  'MOORING1_TENSION1' ,\n",
    "              'MOORING1_TENSION2' , 'MOORING2_LENGTH' , 'MOORING2_TENSION1' , 'MOORING2_TENSION2' ,\n",
    "              'MOORING3_LENGTH' , 'MOORING3_TENSION1' , 'MOORING3_TENSION2' , 'MOORING4_LENGTH' ,\n",
    "              'MOORING4_TENSION1' , 'MOORING4_TENSION2' , 'MOORING5_LENGTH' , 'MOORING5_TENSION1' ,\n",
    "              'MOORING5_TENSION2' , 'MOORING6_LENGTH' , 'MOORING6_TENSION1' , 'MOORING6_TENSION2' ,\n",
    "              'MOORING7_LENGTH' , 'MOORING7_TENSION1' , 'MOORING7_TENSION2' , 'MOORING8_LENGTH' , \n",
    "              'MOORING8_TENSION1' , 'MOORING8_TENSION2' , 'MOORING9_LENGTH' , 'MOORING9_TENSION1' ,\n",
    "              'MOORING9_TENSION2' , 'MOTION_TILTX' , 'MOTION_TILTY' , 'MOTION_YAW' , 'POSITION_X' ,\n",
    "              'POSITION_Y' , 'WIND1_DIRECTION' , 'WIND1_SPEED' , 'WIND2_DIRECTION' , 'WIND2_SPEED']\n",
    "    df = df.drop(['CURRENT_DEPTH1' , 'CURRENT_DEPTH2' , 'CURRENT_DEPTH3' , 'CURRENT_DEPTH4' ,\n",
    "                'CURRENT_DEPTH5' , 'CURRENT_DEPTH6' , 'CURRENT_DEPTH7','MOORING1_LENGTH','MOORING2_LENGTH','MOORING3_LENGTH','MOORING4_LENGTH','MOORING5_LENGTH','MOORING6_LENGTH','MOORING7_LENGTH','MOORING8_LENGTH','MOORING9_LENGTH'],axis=1)\n",
    "    dfs.append(df)\n",
    "df1 = dfs[0]\n",
    "df2 = dfs[1]\n",
    "df3 = dfs[2]\n",
    "df4 = dfs[3]"
   ]
  },
  {
   "cell_type": "code",
   "execution_count": 3,
   "id": "44a6a4a6",
   "metadata": {},
   "outputs": [],
   "source": [
    "df3 = df3.drop(['MOORING1_TENSION2','MOORING2_TENSION1','MOORING2_TENSION2','MOORING3_TENSION1','MOORING3_TENSION2','MOORING4_TENSION1','MOORING4_TENSION2','MOORING5_TENSION1','MOORING5_TENSION2','MOORING6_TENSION1','MOORING6_TENSION2','MOORING7_TENSION1','MOORING7_TENSION2','MOORING8_TENSION1','MOORING8_TENSION2','MOORING9_TENSION1','MOORING9_TENSION2'],axis=1)\n",
    "X = df3.drop([\"MOORING1_TENSION1\"],axis=1)\n",
    "y = df3[\"MOORING1_TENSION1\"]\n",
    "# 그래서 요거 df3만 트레인하는거? ㅇㅇ? ㅇㅇㅇㅇ???===3 =3=3=3\n",
    "X_train = X.iloc[:69120,]\n",
    "y_train = y.iloc[:69120,]\n",
    "X_test = X.iloc[69120:,]\n",
    "y_test = y.iloc[69120:,]"
   ]
  },
  {
   "cell_type": "code",
   "execution_count": null,
   "id": "3dced785",
   "metadata": {},
   "outputs": [],
   "source": [
    "param_grid = {\n",
    "    'loss': ['epsilon_insensitive', 'squared_epsilon_insensitive'],\n",
    "    'epsilon': [0, 0.1, 0.2, 0.3],\n",
    "    'C': [1, 10, 100],\n",
    "}"
   ]
  },
  {
   "cell_type": "code",
   "execution_count": null,
   "id": "62e8a829",
   "metadata": {},
   "outputs": [],
   "source": [
    "estimator = LinearSVR()"
   ]
  },
  {
   "cell_type": "code",
   "execution_count": null,
   "id": "51717223",
   "metadata": {},
   "outputs": [],
   "source": [
    "from sklearn.model_selection import KFold\n",
    "\n",
    "kf = KFold(random_state=30,\n",
    "           n_splits=5,\n",
    "           shuffle=True,\n",
    "          )"
   ]
  },
  {
   "cell_type": "code",
   "execution_count": null,
   "id": "f7dd62d7",
   "metadata": {},
   "outputs": [],
   "source": [
    "# define grid_search\n",
    "grid_search = GridSearchCV(estimator=estimator, \n",
    "                           param_grid=param_grid, \n",
    "                           cv=kf, \n",
    "                           n_jobs=-1, \n",
    "                           verbose=2\n",
    "                          )\n",
    "\n",
    "# fit with (x_train, y_train)\n",
    "grid_search.fit(X_train, y_train)"
   ]
  },
  {
   "cell_type": "code",
   "execution_count": null,
   "id": "97ddf0b4",
   "metadata": {},
   "outputs": [],
   "source": [
    "grid_search.best_params_"
   ]
  },
  {
   "cell_type": "code",
   "execution_count": 19,
   "id": "219dda08",
   "metadata": {},
   "outputs": [
    {
     "name": "stderr",
     "output_type": "stream",
     "text": [
      "C:\\Users\\CPB06GameN\\.conda\\envs\\hj\\lib\\site-packages\\sklearn\\svm\\_base.py:1199: ConvergenceWarning: Liblinear failed to converge, increase the number of iterations.\n",
      "  warnings.warn(\n"
     ]
    },
    {
     "data": {
      "text/plain": [
       "LinearSVR(C=100, epsilon=0, loss='squared_epsilon_insensitive', max_iter=15000)"
      ]
     },
     "execution_count": 19,
     "metadata": {},
     "output_type": "execute_result"
    }
   ],
   "source": [
    "# X = df3.drop([\"MOORING1_TENSION1\"],axis=1)\n",
    "# y = df3[\"MOORING1_TENSION1\"]\n",
    "# # 그래서 요거 df3만 트레인하는거? ㅇㅇ? ㅇㅇㅇㅇ???===3 =3=3=3\n",
    "# X_train = X.iloc[:69120,]\n",
    "# y_train = y.iloc[:69120,]\n",
    "# X_test = X.iloc[69120:,]\n",
    "# y_test = y.iloc[69120:,]\n",
    "xg_model = LinearSVR(C= 100, epsilon=0, loss= 'squared_epsilon_insensitive',max_iter=15000)\n",
    "xg_model.fit(X_train,y_train)"
   ]
  },
  {
   "cell_type": "code",
   "execution_count": 20,
   "id": "8b4b643f",
   "metadata": {},
   "outputs": [
    {
     "name": "stdout",
     "output_type": "stream",
     "text": [
      "0.9429417574918473 0.9345018932557893\n"
     ]
    }
   ],
   "source": [
    "r_sq_train = xg_model.score(X_train,y_train)\n",
    "r_sq_test = xg_model.score(X_test,y_test)\n",
    "print(r_sq_train,r_sq_test)"
   ]
  },
  {
   "cell_type": "code",
   "execution_count": 27,
   "id": "8f2c0c75",
   "metadata": {},
   "outputs": [],
   "source": [
    "# 새로운 모델 돌릴때 써라\n",
    "df4 = df4.drop(['MOORING1_TENSION2','MOORING2_TENSION1','MOORING2_TENSION2','MOORING3_TENSION1','MOORING3_TENSION2','MOORING4_TENSION1','MOORING4_TENSION2','MOORING5_TENSION1','MOORING5_TENSION2','MOORING6_TENSION1','MOORING6_TENSION2','MOORING7_TENSION1','MOORING7_TENSION2','MOORING8_TENSION1','MOORING8_TENSION2','MOORING9_TENSION1','MOORING9_TENSION2'],axis=1)\n",
    "X = df4.drop([\"MOORING1_TENSION1\"],axis=1)\n",
    "y = df4[\"MOORING1_TENSION1\"]\n",
    "X_train = X.iloc[:69120,]\n",
    "y_train = y.iloc[:69120,]\n",
    "X_test = X.iloc[69120:,]\n",
    "y_test = y.iloc[69120:,]"
   ]
  },
  {
   "cell_type": "code",
   "execution_count": 28,
   "id": "18aec0bd",
   "metadata": {},
   "outputs": [],
   "source": [
    "predictions = xg_model.predict(X_test)"
   ]
  },
  {
   "cell_type": "code",
   "execution_count": 29,
   "id": "672f8afc",
   "metadata": {},
   "outputs": [
    {
     "name": "stdout",
     "output_type": "stream",
     "text": [
      "-1.4958068767350814\n"
     ]
    }
   ],
   "source": [
    "print(explained_variance_score(predictions,y_test))"
   ]
  },
  {
   "cell_type": "code",
   "execution_count": 10,
   "id": "ac76c292",
   "metadata": {},
   "outputs": [],
   "source": [
    "num1 = np.linspace(0,17279,17280)\n",
    "num2 = np.linspace(0,69119,69120)"
   ]
  },
  {
   "cell_type": "code",
   "execution_count": 33,
   "id": "2033ba07",
   "metadata": {},
   "outputs": [
    {
     "data": {
      "text/plain": [
       "(500.0, 550.0)"
      ]
     },
     "execution_count": 33,
     "metadata": {},
     "output_type": "execute_result"
    },
    {
     "data": {
      "image/png": "[encoded data removed]",
      "text/plain": [
       "<Figure size 432x288 with 1 Axes>"
      ]
     },
     "metadata": {
      "needs_background": "light"
     },
     "output_type": "display_data"
    }
   ],
   "source": [
    "plt.plot(num1,predictions)\n",
    "plt.ylim(500,550)"
   ]
  },
  {
   "cell_type": "code",
   "execution_count": 31,
   "id": "36e34393",
   "metadata": {},
   "outputs": [
    {
     "data": {
      "text/plain": [
       "<AxesSubplot:>"
      ]
     },
     "execution_count": 31,
     "metadata": {},
     "output_type": "execute_result"
    },
    {
     "data": {
      "image/png": "[encoded data removed]",
      "text/plain": [
       "<Figure size 432x288 with 1 Axes>"
      ]
     },
     "metadata": {
      "needs_background": "light"
     },
     "output_type": "display_data"
    }
   ],
   "source": [
    "y_test.plot()"
   ]
  },
  {
   "cell_type": "code",
   "execution_count": null,
   "id": "3ddbf0ff",
   "metadata": {},
   "outputs": [],
   "source": []
  }
 ],
 "metadata": {
  "kernelspec": {
   "display_name": "Python 3",
   "language": "python",
   "name": "python3"
  },
  "language_info": {
   "codemirror_mode": {
    "name": "ipython",
    "version": 3
   },
   "file_extension": ".py",
   "mimetype": "text/x-python",
   "name": "python",
   "nbconvert_exporter": "python",
   "pygments_lexer": "ipython3",
   "version": "3.8.10"
  }
 },
 "nbformat": 4,
 "nbformat_minor": 5
}
