{
 "cells": [
  {
   "cell_type": "code",
   "execution_count": 22,
   "metadata": {},
   "outputs": [],
   "source": [
    "import pandas as pd\n",
    "import numpy as np\n",
    "import matplotlib.pyplot as plt\n",
    "import glob\n",
    "import seaborn as sns\n",
    "from sklearn.preprocessing import MinMaxScaler\n",
    "# import xgboost as xg\n",
    "from sklearn.metrics import explained_variance_score\n",
    "from sklearn.model_selection import GridSearchCV\n",
    "from sklearn.svm import LinearSVR"
   ]
  },
  {
   "cell_type": "markdown",
   "metadata": {},
   "source": [
    "# 5일자 데이터 불러오기"
   ]
  },
  {
   "cell_type": "code",
   "execution_count": 2,
   "metadata": {},
   "outputs": [],
   "source": [
    "path = \"C:/Users/CPB06GameN/내 주피터노트북\"\n",
    "file = [\"2015-08-07\",\"2015-08-08\",\"2015-09-03\",\"2015-09-09\",\"2015-09-11\"]\n",
    "dfs = []\n",
    "for i in range(5):\n",
    "    filenames = glob.glob(path + \"/\" + file[i] + \"/*.txt\")\n",
    "    cols = []\n",
    "    for filename in filenames:\n",
    "        cols.append(pd.read_csv(filename, index_col=None, header=None))\n",
    "    df = pd.DataFrame(pd.concat(cols, axis=1, ignore_index=None))\n",
    "    df.columns = ['AIRGAP1' , 'AIRGAP2' , 'AIRGAP3' , 'AIRGAP4' , 'CURRENT_DEPTH1' ,\n",
    "              'CURRENT_DEPTH2' , 'CURRENT_DEPTH3' , 'CURRENT_DEPTH4' , 'CURRENT_DEPTH5' ,\n",
    "              'CURRENT_DEPTH6' , 'CURRENT_DEPTH7' , 'CURRENT_DIRECTION1' , 'CURRENT_DIRECTION2' , \n",
    "              'CURRENT_DIRECTION3' , 'CURRENT_DIRECTION4' , 'CURRENT_DIRECTION5' , 'CURRENT_DIRECTION6' , \n",
    "              'CURRENT_DIRECTION7' , 'CURRENT_SPEED1' , 'CURRENT_SPEED2' , 'CURRENT_SPEED3' , 'CURRENT_SPEED4' ,\n",
    "              'CURRENT_SPEED5' , 'CURRENT_SPEED6' , 'CURRENT_SPEED7' , 'MOORING1_LENGTH',  'MOORING1_TENSION1' ,\n",
    "              'MOORING1_TENSION2' , 'MOORING2_LENGTH' , 'MOORING2_TENSION1' , 'MOORING2_TENSION2' ,\n",
    "              'MOORING3_LENGTH' , 'MOORING3_TENSION1' , 'MOORING3_TENSION2' , 'MOORING4_LENGTH' ,\n",
    "              'MOORING4_TENSION1' , 'MOORING4_TENSION2' , 'MOORING5_LENGTH' , 'MOORING5_TENSION1' ,\n",
    "              'MOORING5_TENSION2' , 'MOORING6_LENGTH' , 'MOORING6_TENSION1' , 'MOORING6_TENSION2' ,\n",
    "              'MOORING7_LENGTH' , 'MOORING7_TENSION1' , 'MOORING7_TENSION2' , 'MOORING8_LENGTH' , \n",
    "              'MOORING8_TENSION1' , 'MOORING8_TENSION2' , 'MOORING9_LENGTH' , 'MOORING9_TENSION1' ,\n",
    "              'MOORING9_TENSION2' , 'MOTION_TILTX' , 'MOTION_TILTY' , 'MOTION_YAW' , 'POSITION_X' ,\n",
    "              'POSITION_Y' , 'WIND1_DIRECTION' , 'WIND1_SPEED' , 'WIND2_DIRECTION' , 'WIND2_SPEED']\n",
    "    df = df.drop(['CURRENT_DEPTH1' , 'CURRENT_DEPTH2' , 'CURRENT_DEPTH3' , 'CURRENT_DEPTH4' ,\n",
    "                'CURRENT_DEPTH5' , 'CURRENT_DEPTH6' , 'CURRENT_DEPTH7','MOORING1_LENGTH','MOORING2_LENGTH','MOORING3_LENGTH','MOORING4_LENGTH','MOORING5_LENGTH','MOORING6_LENGTH','MOORING7_LENGTH','MOORING8_LENGTH','MOORING9_LENGTH'],axis=1)\n",
    "    dfs.append(df)\n",
    "df1 = dfs[0]\n",
    "df2 = dfs[1]\n",
    "df3 = dfs[2]\n",
    "df4 = dfs[3]\n",
    "df5 = dfs[4]"
   ]
  },
  {
   "cell_type": "markdown",
   "metadata": {},
   "source": [
    "# train test 4:1 비율 분할"
   ]
  },
  {
   "cell_type": "code",
   "execution_count": 3,
   "metadata": {},
   "outputs": [],
   "source": [
    "df4 = df4.drop(['MOORING1_TENSION2','MOORING2_TENSION1','MOORING2_TENSION2','MOORING3_TENSION1','MOORING3_TENSION2','MOORING4_TENSION1','MOORING4_TENSION2','MOORING5_TENSION1','MOORING5_TENSION2','MOORING6_TENSION1','MOORING6_TENSION2','MOORING7_TENSION1','MOORING7_TENSION2','MOORING8_TENSION1','MOORING8_TENSION2','MOORING9_TENSION1','MOORING9_TENSION2'],axis=1)\n",
    "X = df4.drop([\"MOORING1_TENSION1\"],axis=1)\n",
    "y = df4[\"MOORING1_TENSION1\"]\n",
    "X_train = X.iloc[:69120,]\n",
    "y_train = y.iloc[:69120,]\n",
    "X_test = X.iloc[69120:,]\n",
    "y_test = y.iloc[69120:,]"
   ]
  },
  {
   "cell_type": "markdown",
   "metadata": {},
   "source": [
    "# max_iter 값 조정 "
   ]
  },
  {
   "cell_type": "code",
   "execution_count": 14,
   "metadata": {
    "scrolled": true
   },
   "outputs": [
    {
     "name": "stderr",
     "output_type": "stream",
     "text": [
      "C:\\Users\\CPB06GameN\\anaconda3\\lib\\site-packages\\sklearn\\svm\\_base.py:976: ConvergenceWarning: Liblinear failed to converge, increase the number of iterations.\n",
      "  warnings.warn(\"Liblinear failed to converge, increase \"\n",
      "C:\\Users\\CPB06GameN\\anaconda3\\lib\\site-packages\\sklearn\\svm\\_base.py:976: ConvergenceWarning: Liblinear failed to converge, increase the number of iterations.\n",
      "  warnings.warn(\"Liblinear failed to converge, increase \"\n",
      "C:\\Users\\CPB06GameN\\anaconda3\\lib\\site-packages\\sklearn\\svm\\_base.py:976: ConvergenceWarning: Liblinear failed to converge, increase the number of iterations.\n",
      "  warnings.warn(\"Liblinear failed to converge, increase \"\n",
      "C:\\Users\\CPB06GameN\\anaconda3\\lib\\site-packages\\sklearn\\svm\\_base.py:976: ConvergenceWarning: Liblinear failed to converge, increase the number of iterations.\n",
      "  warnings.warn(\"Liblinear failed to converge, increase \"\n",
      "C:\\Users\\CPB06GameN\\anaconda3\\lib\\site-packages\\sklearn\\svm\\_base.py:976: ConvergenceWarning: Liblinear failed to converge, increase the number of iterations.\n",
      "  warnings.warn(\"Liblinear failed to converge, increase \"\n"
     ]
    }
   ],
   "source": [
    "train = []\n",
    "test = []\n",
    "for i in [1,10,100,1000,10000] :\n",
    "    xg_model = LinearSVR(C= 200, epsilon=0,loss='squared_epsilon_insensitive', max_iter=i, random_state=317)\n",
    "    xg_model.fit(X_train,y_train)\n",
    "    r_sq_train = xg_model.score(X_train,y_train)\n",
    "    r_sq_test = xg_model.score(X_test,y_test)\n",
    "    train.append(r_sq_train)\n",
    "    test.append(r_sq_test)"
   ]
  },
  {
   "cell_type": "markdown",
   "metadata": {},
   "source": [
    "# train test score 백분율화"
   ]
  },
  {
   "cell_type": "code",
   "execution_count": 36,
   "metadata": {},
   "outputs": [],
   "source": [
    "real_train = []\n",
    "for i in [0,1,2,3,4]:\n",
    "    k = train[i]*100\n",
    "    real_train.append(k)"
   ]
  },
  {
   "cell_type": "code",
   "execution_count": 38,
   "metadata": {},
   "outputs": [],
   "source": [
    "real_test = []\n",
    "for i in [0,1,2,3,4]:\n",
    "    j = test[i]*100\n",
    "    real_test.append(j)"
   ]
  },
  {
   "cell_type": "markdown",
   "metadata": {},
   "source": [
    "# linearSVR 모델 성능 시각화"
   ]
  },
  {
   "cell_type": "code",
   "execution_count": 65,
   "metadata": {
    "scrolled": true
   },
   "outputs": [
    {
     "data": {
      "image/png": "[encoded data removed]",
      "text/plain": [
       "<Figure size 432x288 with 1 Axes>"
      ]
     },
     "metadata": {
      "needs_background": "light"
     },
     "output_type": "display_data"
    }
   ],
   "source": [
    "x = [1,10,100,1000,10000]\n",
    "values = range(len(x))\n",
    "plt.plot(real_train,\"^\")\n",
    "plt.plot(real_train,label=\"train\")\n",
    "plt.plot(real_test,\"^\")\n",
    "plt.plot(real_test,label = \"test\")\n",
    "plt.legend()\n",
    "plt.title('linearSVR_Score')\n",
    "plt.xticks(values,x)\n",
    "plt.xlabel(\"Max_iter\")\n",
    "plt.ylabel(\"Score\")\n",
    "plt.show()"
   ]
  }
 ],
 "metadata": {
  "kernelspec": {
   "display_name": "Python 3",
   "language": "python",
   "name": "python3"
  },
  "language_info": {
   "codemirror_mode": {
    "name": "ipython",
    "version": 3
   },
   "file_extension": ".py",
   "mimetype": "text/x-python",
   "name": "python",
   "nbconvert_exporter": "python",
   "pygments_lexer": "ipython3",
   "version": "3.8.5"
  }
 },
 "nbformat": 4,
 "nbformat_minor": 5
}
